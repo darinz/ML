{
 "cells": [
  {
   "cell_type": "markdown",
   "metadata": {},
   "source": [
    "# Python Introduction"
   ]
  },
  {
   "cell_type": "markdown",
   "metadata": {},
   "source": [
    "### Variables\n",
    "In Python, types of variables are automatically inferred by the interpreter"
   ]
  },
  {
   "cell_type": "code",
   "execution_count": 1,
   "metadata": {},
   "outputs": [
    {
     "name": "stdout",
     "output_type": "stream",
     "text": [
      "department: Paul G. Allen School\n",
      "number: 446\n",
      "pi: 3.141\n",
      "<class 'str'> <class 'int'> <class 'float'>\n"
     ]
    }
   ],
   "source": [
    "school = \"Paul G. Allen School\" # creates a variable of type str\n",
    "number = 446       # int\n",
    "pi = 3.141         # float\n",
    "\n",
    "print(\"department:\", school)\n",
    "print(\"number:\", number)\n",
    "print(\"pi:\", pi)\n",
    "\n",
    "print(type(school), type(number), type(pi))"
   ]
  },
  {
   "cell_type": "markdown",
   "metadata": {},
   "source": [
    "### Math operations"
   ]
  },
  {
   "cell_type": "code",
   "execution_count": 2,
   "metadata": {},
   "outputs": [
    {
     "name": "stdout",
     "output_type": "stream",
     "text": [
      "17\n",
      "3.25\n",
      "3\n",
      "16\n"
     ]
    }
   ],
   "source": [
    "a = 13\n",
    "b = 4\n",
    "\n",
    "print(a + b)\n",
    "print(a / b) # floating point division\n",
    "print(a // b) # integer division\n",
    "print(b**2) # powers are built-in"
   ]
  },
  {
   "cell_type": "markdown",
   "metadata": {},
   "source": [
    "### Conditionals\n",
    "Python cares about whitespace! There are no brackets or end statements\n",
    "\n",
    "Instead of &&, ||, !, we use 'and', 'or', and 'not'.\n",
    "\n",
    "Boolean values are written as 'True' and 'False'"
   ]
  },
  {
   "cell_type": "code",
   "execution_count": 3,
   "metadata": {},
   "outputs": [
    {
     "name": "stdout",
     "output_type": "stream",
     "text": [
      "hello there!\n",
      "this always prints\n"
     ]
    }
   ],
   "source": [
    "a = 9.1\n",
    "b = 7\n",
    "\n",
    "# basic if else syntax\n",
    "if a < 10:\n",
    "    print('hello there!')\n",
    "else:\n",
    "    print('general kenobi')\n",
    "\n",
    "print('this always prints')"
   ]
  },
  {
   "cell_type": "code",
   "execution_count": 4,
   "metadata": {},
   "outputs": [
    {
     "name": "stdout",
     "output_type": "stream",
     "text": [
      "and\n",
      "or\n"
     ]
    }
   ],
   "source": [
    "# and syntax\n",
    "if a < 10 and b > 5:\n",
    "    print('and')\n",
    "\n",
    "# or syntax\n",
    "if a > 10 or b > 5:\n",
    "    print('or')"
   ]
  },
  {
   "cell_type": "code",
   "execution_count": 5,
   "metadata": {},
   "outputs": [
    {
     "name": "stdout",
     "output_type": "stream",
     "text": [
      "a != b\n"
     ]
    }
   ],
   "source": [
    "# else, else if syntax\n",
    "if False:\n",
    "    print('this never prints')\n",
    "elif a != b:\n",
    "    print('a != b')\n",
    "else:\n",
    "    print('else!')"
   ]
  },
  {
   "cell_type": "markdown",
   "metadata": {},
   "source": [
    "### Data Structures"
   ]
  },
  {
   "cell_type": "code",
   "execution_count": 6,
   "metadata": {
    "scrolled": true
   },
   "outputs": [
    {
     "name": "stdout",
     "output_type": "stream",
     "text": [
      "['apple', 'pear', 'tomato', 'avocado']\n",
      "apple\n",
      "tomato\n",
      "['pear', 'tomato']\n",
      "['apple', 'pear', 'tomato', 'salmon']\n"
     ]
    }
   ],
   "source": [
    "# Lists\n",
    "fruit = ['apple', 'pear', 'tomato', 'avocado']\n",
    "print(fruit)\n",
    "print(fruit[0])\n",
    "print(fruit[-2]) # can use reverse indexing\n",
    "print(fruit[1:3]) # can index multiple items [inclusive, exclusive)\n",
    "fruit[3] = 'salmon' # can assign items in list\n",
    "\n",
    "print(fruit)"
   ]
  },
  {
   "cell_type": "code",
   "execution_count": 7,
   "metadata": {},
   "outputs": [
    {
     "name": "stdout",
     "output_type": "stream",
     "text": [
      "4\n",
      "True\n"
     ]
    }
   ],
   "source": [
    "print(len(fruit))\n",
    "print('pear' in fruit) # can check for existence in a list (\"contains()\")"
   ]
  },
  {
   "cell_type": "code",
   "execution_count": 8,
   "metadata": {},
   "outputs": [
    {
     "name": "stdout",
     "output_type": "stream",
     "text": [
      "['apple', 'pear', 'tomato', 'salmon', 'trout']\n",
      "5\n"
     ]
    }
   ],
   "source": [
    "fruit.append('trout') # lists are mutable\n",
    "\n",
    "print(fruit)\n",
    "print(len(fruit))"
   ]
  },
  {
   "cell_type": "code",
   "execution_count": 9,
   "metadata": {},
   "outputs": [
    {
     "name": "stdout",
     "output_type": "stream",
     "text": [
      "(1, 2, 3)\n",
      "2\n",
      "3\n",
      "2\n"
     ]
    }
   ],
   "source": [
    "# tuples\n",
    "tupperware = (1,2,3)\n",
    "print(tupperware)\n",
    "print(tupperware[1])\n",
    "a, b, c = tupperware # can unpack tuples\n",
    "_, d, _ = tupperware # ignore the elements you don't care about\n",
    "print(c)\n",
    "print(d)"
   ]
  },
  {
   "cell_type": "code",
   "execution_count": 10,
   "metadata": {},
   "outputs": [
    {
     "name": "stdout",
     "output_type": "stream",
     "text": [
      "'tuple' object does not support item assignment\n"
     ]
    }
   ],
   "source": [
    "try:\n",
    "    tupperware[1] = 4 # cannot modify tuples\n",
    "except Exception as e:\n",
    "    print(e)"
   ]
  },
  {
   "cell_type": "code",
   "execution_count": 11,
   "metadata": {},
   "outputs": [
    {
     "name": "stdout",
     "output_type": "stream",
     "text": [
      "{'Jocelyn': 21, 'Newton': 84}\n",
      "21\n",
      "{'Jocelyn': 21, 'Newton': 84, 'Einstein': 76, 5: 'hi'}\n"
     ]
    }
   ],
   "source": [
    "# dicts (maps)\n",
    "ages = {'Jocelyn': 21, 'Newton': 84}\n",
    "print(ages)\n",
    "print(ages['Jocelyn'])\n",
    "ages['Einstein'] = 76\n",
    "ages[5] = 'hi'\n",
    "print(ages)\n"
   ]
  },
  {
   "cell_type": "markdown",
   "metadata": {},
   "source": [
    "### Loops"
   ]
  },
  {
   "cell_type": "code",
   "execution_count": 12,
   "metadata": {},
   "outputs": [
    {
     "name": "stdout",
     "output_type": "stream",
     "text": [
      "0\n",
      "1\n",
      "2\n",
      "3\n",
      "4\n",
      "\n",
      "apple\n",
      "pear\n",
      "tomato\n",
      "salmon\n",
      "trout\n"
     ]
    }
   ],
   "source": [
    "# basic for loops\n",
    "for i in range(5):\n",
    "    print(i)\n",
    "    \n",
    "print()\n",
    "\n",
    "# can loop over any iterable\n",
    "for f in fruit:\n",
    "    print(f)"
   ]
  },
  {
   "cell_type": "code",
   "execution_count": 13,
   "metadata": {},
   "outputs": [
    {
     "name": "stdout",
     "output_type": "stream",
     "text": [
      "0 apple\n",
      "1 pear\n",
      "2 tomato\n",
      "3 salmon\n",
      "4 trout\n",
      "\n",
      "apple 3 2\n",
      "pear 1 7\n",
      "tomato 4 1\n",
      "salmon 1 8\n",
      "trout 5 2\n"
     ]
    }
   ],
   "source": [
    "# advanced for loops\n",
    "for idx, item in enumerate(fruit):\n",
    "    print(idx, item)\n",
    "    \n",
    "print()\n",
    "\n",
    "a = [3, 1, 4, 1, 5]\n",
    "b = [2, 7, 1, 8, 2]\n",
    "\n",
    "# can join the iterators together\n",
    "for f, pi, e in zip(fruit, a, b):\n",
    "    print(f, pi, e)"
   ]
  },
  {
   "cell_type": "code",
   "execution_count": 14,
   "metadata": {},
   "outputs": [
    {
     "name": "stdout",
     "output_type": "stream",
     "text": [
      "Jocelyn 20 20 20 20 20\n"
     ]
    }
   ],
   "source": [
    "# while loops\n",
    "my_str = \"Jocelyn\"\n",
    "\n",
    "while len(my_str) < 20:\n",
    "    my_str += ' 20'\n",
    "\n",
    "print(my_str)"
   ]
  },
  {
   "cell_type": "markdown",
   "metadata": {},
   "source": [
    "## Functions + Classes"
   ]
  },
  {
   "cell_type": "code",
   "execution_count": 15,
   "metadata": {},
   "outputs": [
    {
     "name": "stdout",
     "output_type": "stream",
     "text": [
      "16\n"
     ]
    }
   ],
   "source": [
    "# this is a function\n",
    "def square_this(x):\n",
    "    return x * x\n",
    "\n",
    "print(square_this(4))\n"
   ]
  },
  {
   "cell_type": "code",
   "execution_count": 16,
   "metadata": {},
   "outputs": [
    {
     "name": "stdout",
     "output_type": "stream",
     "text": [
      "method: 9\n",
      "static method: 125\n",
      "a: 3\n",
      "b: 4\n"
     ]
    }
   ],
   "source": [
    "class Squaring:\n",
    "    \n",
    "    # this is the constructor\n",
    "    def __init__(self, a, b=4):\n",
    "        self._a = a\n",
    "        self._b = b\n",
    "    \n",
    "    # this is a method\n",
    "    def square(self, x):\n",
    "        return x * x\n",
    "    \n",
    "    # this is a static method\n",
    "    @staticmethod\n",
    "    def mymethod(x):\n",
    "        return x**3\n",
    "\n",
    "sq = Squaring(3)\n",
    "print('method:', sq.square(3))\n",
    "print('static method:', Squaring.mymethod(5))\n",
    "print('a:', sq._a)\n",
    "print('b:', sq._b)"
   ]
  },
  {
   "cell_type": "markdown",
   "metadata": {},
   "source": [
    "# Numpy\n",
    "Numpy is a powerful scientific computing library for Python. It uses C/C++ in the background to speed up computation"
   ]
  },
  {
   "cell_type": "code",
   "execution_count": 17,
   "metadata": {},
   "outputs": [
    {
     "name": "stdout",
     "output_type": "stream",
     "text": [
      "[6 6 6 6 6]\n",
      "[5 8 9 8 5]\n",
      "[4 5]\n",
      "<class 'numpy.ndarray'>\n"
     ]
    }
   ],
   "source": [
    "import numpy as np\n",
    "\n",
    "a = np.array([1,2,3,4,5])\n",
    "b = np.array([5,4,3,2,1])\n",
    "c = a + b # can do elementwise operations\n",
    "print(c)\n",
    "print(a*b)\n",
    "print(a[3:5]) # can use same indexing as lists\n",
    "print(type(a))"
   ]
  },
  {
   "cell_type": "code",
   "execution_count": 18,
   "metadata": {},
   "outputs": [
    {
     "name": "stdout",
     "output_type": "stream",
     "text": [
      "A:\n",
      " [[1 2]\n",
      " [3 4]]\n",
      "[1 2]\n",
      "operations:\n",
      " [2 4]\n",
      "2\n",
      "[2 4]\n",
      "(2,)\n",
      "matrix transpose:\n",
      " [[1 3]\n",
      " [2 4]]\n",
      "matrix inverse:\n",
      " [[-2.   1. ]\n",
      " [ 1.5 -0.5]]\n"
     ]
    }
   ],
   "source": [
    "A = np.array([[1,2], [3,4]]) # can create multidimensional arrays\n",
    "print(\"A:\\n\", A)\n",
    "print(A[0]) # indexing into rows\n",
    "print(\"operations:\\n\", A[:,1]) # indexing into columns\n",
    "print(A[0,1]) # indexing into rows and columns\n",
    "print(A[:,1].T) # transposing a column \n",
    "print(np.shape(A[:,1])) # shape of the matrix\n",
    "print(\"matrix transpose:\\n\", A.T)\n",
    "print(\"matrix inverse:\\n\", np.linalg.pinv(A))\n"
   ]
  },
  {
   "cell_type": "code",
   "execution_count": 19,
   "metadata": {},
   "outputs": [
    {
     "name": "stdout",
     "output_type": "stream",
     "text": [
      "[[0. 0. 0. 0.]\n",
      " [0. 0. 0. 0.]\n",
      " [0. 0. 0. 0.]\n",
      " [0. 0. 0. 0.]]\n",
      "[1. 1. 1.]\n",
      "[0.90038264 0.86421204 0.8201528  0.2103761  0.71113902]\n"
     ]
    }
   ],
   "source": [
    "# can create special types of arrays\n",
    "a = np.zeros((4,4))\n",
    "b = np.ones(3)\n",
    "c = np.random.random(5)\n",
    "print(a)\n",
    "print(b)\n",
    "print(c)"
   ]
  },
  {
   "cell_type": "code",
   "execution_count": 20,
   "metadata": {},
   "outputs": [
    {
     "name": "stdout",
     "output_type": "stream",
     "text": [
      "[[2 2]\n",
      " [3 5]]\n",
      "\n",
      "[[1 2]\n",
      " [3 4]]\n",
      "[[1 0]\n",
      " [0 4]]\n"
     ]
    }
   ],
   "source": [
    "# matrices\n",
    "A = np.array([[1,2],[3,4]])\n",
    "B = np.array([[1, 0],[0, 1]]) # identity matrix (same as np.eye(2))\n",
    "\n",
    "print(A + B)\n",
    "print()\n",
    "print(A @ B)# @ is matrix multiplication \n",
    "print(A * B)# * is elementwise multiplication. You probably don't mean this"
   ]
  },
  {
   "cell_type": "code",
   "execution_count": 21,
   "metadata": {},
   "outputs": [
    {
     "name": "stdout",
     "output_type": "stream",
     "text": [
      "[[1 1]\n",
      " [2 2]\n",
      " [3 3]]\n",
      "12\n",
      "[6 6]\n",
      "[2 4 6]\n"
     ]
    }
   ],
   "source": [
    "# numpy functions (see documentation for more)\n",
    "A = np.array([[1,1],[2,2],[3,3]])\n",
    "print(A)\n",
    "print(np.sum(A)) # can sum all elements\n",
    "print(np.sum(A, axis=0)) # can also sum along a dimension (0)\n",
    "print(np.sum(A, axis=1)) # can also sum along a dimension (1)\n"
   ]
  },
  {
   "cell_type": "code",
   "execution_count": 22,
   "metadata": {},
   "outputs": [
    {
     "name": "stdout",
     "output_type": "stream",
     "text": [
      "time: 0.0008039474487304688\n",
      "time: 0.07655882835388184\n",
      "speedup x: 95.22864768683274\n"
     ]
    }
   ],
   "source": [
    "# use numpy to speedup computation\n",
    "# as a rule, use numpy operations to calculate things, not for loops.\n",
    "# e.g. call np.dot don't sum over a for loop of the elements.\n",
    "import time\n",
    "n = 100000\n",
    "a = np.ones(n)\n",
    "b = np.ones(n)\n",
    "start = time.time()\n",
    "\n",
    "res = a + b\n",
    "\n",
    "numpy_time = time.time() - start\n",
    "print(\"time:\", numpy_time)\n",
    "\n",
    "res = []\n",
    "start = time.time()\n",
    "\n",
    "for i in range(n):\n",
    "    res.append(a[i] + b[i])\n",
    "    \n",
    "loop_time = time.time() - start\n",
    "print(\"time:\", loop_time)\n",
    "\n",
    "print(\"speedup x:\", loop_time / numpy_time)\n"
   ]
  },
  {
   "cell_type": "markdown",
   "metadata": {},
   "source": [
    "# Matplotlib\n",
    "Matplotlib is a library used to visualize data. A useful technique when generating matplotlib plots in a notebook is that we can use the \"magic\" command `%matplotlib inline` to have the generated plots automatically shown in a cell; this saves some additional Python code which would be required to show the plots (e.g. `plt.show()`)."
   ]
  },
  {
   "cell_type": "code",
   "execution_count": 23,
   "metadata": {},
   "outputs": [],
   "source": [
    "import matplotlib.pyplot as plt"
   ]
  },
  {
   "cell_type": "code",
   "execution_count": 24,
   "metadata": {},
   "outputs": [
    {
     "data": {
      "text/plain": [
       "Text(0, 0.5, '$x^2$')"
      ]
     },
     "execution_count": 24,
     "metadata": {},
     "output_type": "execute_result"
    },
    {
     "data": {
      "image/png": "[encoded data removed]",
      "text/plain": [
       "<Figure size 432x288 with 1 Axes>"
      ]
     },
     "metadata": {
      "needs_background": "light"
     },
     "output_type": "display_data"
    }
   ],
   "source": [
    "%matplotlib inline\n",
    "# basic plotting (show scatter and plot)\n",
    "xs = np.arange(10)\n",
    "ys = xs ** 2\n",
    "plt.scatter(xs, ys)\n",
    "plt.plot(xs, ys)\n",
    "\n",
    "# ALWAYS label your plots!\n",
    "plt.title('plot of $x^2$ vs $x$')\n",
    "plt.xlabel('$x$')\n",
    "plt.ylabel('$x^2$')"
   ]
  },
  {
   "cell_type": "markdown",
   "metadata": {},
   "source": [
    "You can also plot multiple items in one graph"
   ]
  },
  {
   "cell_type": "code",
   "execution_count": 25,
   "metadata": {},
   "outputs": [
    {
     "data": {
      "text/plain": [
       "Text(0, 0.5, '$f(x)$')"
      ]
     },
     "execution_count": 25,
     "metadata": {},
     "output_type": "execute_result"
    },
    {
     "data": {
      "image/png": "[encoded data removed]",
      "text/plain": [
       "<Figure size 432x288 with 1 Axes>"
      ]
     },
     "metadata": {
      "needs_background": "light"
     },
     "output_type": "display_data"
    }
   ],
   "source": [
    "xs = np.arange(5)\n",
    "linear = xs\n",
    "linear2 = 2 * xs\n",
    "linear3 = 5 - 3 * xs\n",
    "quadratic = xs ** 2 - 5\n",
    "\n",
    "plt.plot(xs, linear, 'o-', label=\"$f(x)=x$\")\n",
    "plt.plot(xs, linear2, 'o-', label=\"$f(x)=2x$\")\n",
    "plt.plot(xs, linear3, 'o-', label=\"$f(x)=5 - 3x$\")\n",
    "plt.plot(xs, quadratic, 'o-', label=\"$f(x)= x^2 - 5$\") # you can format the labels using latex syntax\n",
    "\n",
    "plt.legend()\n",
    "plt.title('function plots')\n",
    "plt.xlabel('$x$')\n",
    "plt.ylabel('$f(x)$')"
   ]
  },
  {
   "cell_type": "markdown",
   "metadata": {},
   "source": [
    "# Seaborn\n",
    "Seaborn is another libary that can be used to visualize data which is based on matplotlib. Seaborn provides a high-level interface for drawing attrative and informative statistical graphs.\n",
    "\n",
    "Lets plot the same functions as above but using seaborn instead."
   ]
  },
  {
   "cell_type": "code",
   "execution_count": 26,
   "metadata": {},
   "outputs": [
    {
     "data": {
      "text/html": [
       "<div>\n",
       "<style scoped>\n",
       "    .dataframe tbody tr th:only-of-type {\n",
       "        vertical-align: middle;\n",
       "    }\n",
       "\n",
       "    .dataframe tbody tr th {\n",
       "        vertical-align: top;\n",
       "    }\n",
       "\n",
       "    .dataframe thead th {\n",
       "        text-align: right;\n",
       "    }\n",
       "</style>\n",
       "<table border=\"1\" class=\"dataframe\">\n",
       "  <thead>\n",
       "    <tr style=\"text-align: right;\">\n",
       "      <th></th>\n",
       "      <th>$f(x)=x$</th>\n",
       "      <th>$f(x)=2x$</th>\n",
       "      <th>$f(x)=5 - 3x$</th>\n",
       "      <th>$f(x)= x^2 - 5$</th>\n",
       "    </tr>\n",
       "  </thead>\n",
       "  <tbody>\n",
       "    <tr>\n",
       "      <th>0</th>\n",
       "      <td>0</td>\n",
       "      <td>0</td>\n",
       "      <td>5</td>\n",
       "      <td>-5</td>\n",
       "    </tr>\n",
       "    <tr>\n",
       "      <th>1</th>\n",
       "      <td>1</td>\n",
       "      <td>2</td>\n",
       "      <td>2</td>\n",
       "      <td>-4</td>\n",
       "    </tr>\n",
       "    <tr>\n",
       "      <th>2</th>\n",
       "      <td>2</td>\n",
       "      <td>4</td>\n",
       "      <td>-1</td>\n",
       "      <td>-1</td>\n",
       "    </tr>\n",
       "    <tr>\n",
       "      <th>3</th>\n",
       "      <td>3</td>\n",
       "      <td>6</td>\n",
       "      <td>-4</td>\n",
       "      <td>4</td>\n",
       "    </tr>\n",
       "    <tr>\n",
       "      <th>4</th>\n",
       "      <td>4</td>\n",
       "      <td>8</td>\n",
       "      <td>-7</td>\n",
       "      <td>11</td>\n",
       "    </tr>\n",
       "  </tbody>\n",
       "</table>\n",
       "</div>"
      ],
      "text/plain": [
       "   $f(x)=x$  $f(x)=2x$  $f(x)=5 - 3x$  $f(x)= x^2 - 5$\n",
       "0         0          0              5               -5\n",
       "1         1          2              2               -4\n",
       "2         2          4             -1               -1\n",
       "3         3          6             -4                4\n",
       "4         4          8             -7               11"
      ]
     },
     "execution_count": 26,
     "metadata": {},
     "output_type": "execute_result"
    }
   ],
   "source": [
    "import pandas as pd\n",
    "\n",
    "d = {'$f(x)=x$': linear, '$f(x)=2x$': linear2, '$f(x)=5 - 3x$': linear3, '$f(x)= x^2 - 5$': quadratic}\n",
    "df = pd.DataFrame(data=d)\n",
    "df"
   ]
  },
  {
   "cell_type": "code",
   "execution_count": 27,
   "metadata": {},
   "outputs": [
    {
     "data": {
      "text/plain": [
       "[Text(0, 0.5, 'f(x)'), Text(0.5, 0, 'x')]"
      ]
     },
     "execution_count": 27,
     "metadata": {},
     "output_type": "execute_result"
    },
    {
     "data": {
      "image/png": "[encoded data removed]",
      "text/plain": [
       "<Figure size 432x288 with 1 Axes>"
      ]
     },
     "metadata": {
      "needs_background": "light"
     },
     "output_type": "display_data"
    }
   ],
   "source": [
    "import seaborn as sns\n",
    "\n",
    "ax = sns.lineplot(data=df)\n",
    "ax.set(xlabel=\"x\", ylabel=\"f(x)\")"
   ]
  },
  {
   "cell_type": "markdown",
   "metadata": {},
   "source": [
    "# Shell commands in IPython notebooks"
   ]
  },
  {
   "cell_type": "markdown",
   "metadata": {},
   "source": [
    "IPython notebooks support the use of shell commands directly in a notebook; simply prepend the command with `!` and the IPython kernel will execute the code from the shell, not the Python interpreter."
   ]
  },
  {
   "cell_type": "code",
   "execution_count": 28,
   "metadata": {},
   "outputs": [
    {
     "name": "stdout",
     "output_type": "stream",
     "text": [
      "       1\r\n"
     ]
    }
   ],
   "source": [
    "!find . -name \"*.ipynb\" | wc -l"
   ]
  },
  {
   "cell_type": "code",
   "execution_count": null,
   "metadata": {},
   "outputs": [],
   "source": []
  }
 ],
 "metadata": {
  "kernelspec": {
   "display_name": "Python 3",
   "language": "python",
   "name": "python3"
  },
  "language_info": {
   "codemirror_mode": {
    "name": "ipython",
    "version": 3
   },
   "file_extension": ".py",
   "mimetype": "text/x-python",
   "name": "python",
   "nbconvert_exporter": "python",
   "pygments_lexer": "ipython3",
   "version": "3.8.3"
  }
 },
 "nbformat": 4,
 "nbformat_minor": 2
}
